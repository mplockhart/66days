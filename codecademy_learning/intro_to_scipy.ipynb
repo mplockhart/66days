{
 "cells": [
  {
   "cell_type": "markdown",
   "id": "388fdc2b",
   "metadata": {},
   "source": [
    "## Manual implementation\n",
    "The course has me calculate the following manually before showing the implementation possible in SciPy."
   ]
  },
  {
   "cell_type": "code",
   "execution_count": 1,
   "id": "3384e66c",
   "metadata": {},
   "outputs": [
    {
     "name": "stdout",
     "output_type": "stream",
     "text": [
      "3.605551275463989\n",
      "5\n",
      "2\n"
     ]
    }
   ],
   "source": [
    "from scipy.spatial import distance\n",
    "\n",
    "def euclidean_distance(pt1, pt2):\n",
    "  distance = 0\n",
    "  for i in range(len(pt1)):\n",
    "    distance += (pt1[i] - pt2[i]) ** 2\n",
    "  return distance ** 0.5\n",
    "\n",
    "def manhattan_distance(pt1, pt2):\n",
    "  distance = 0\n",
    "  for i in range(len(pt1)):\n",
    "    distance += abs(pt1[i] - pt2[i])\n",
    "  return distance\n",
    "\n",
    "def hamming_distance(pt1, pt2):\n",
    "  distance = 0\n",
    "  for i in range(len(pt1)):\n",
    "    if pt1[i] != pt2[i]:\n",
    "      distance += 1\n",
    "  return distance\n",
    "\n",
    "print(euclidean_distance([1, 2], [4, 0]))\n",
    "print(manhattan_distance([1, 2], [4, 0]))\n",
    "print(hamming_distance([5, 4, 9], [1, 7, 9]))\n",
    "\n"
   ]
  },
  {
   "cell_type": "markdown",
   "id": "b222c4c9",
   "metadata": {},
   "source": [
    "## Calling SciPy\n",
    "The course now showed that the same values were obtained using SciPy module.\n",
    "The only exception is that the hamming result is always betwenn 0 and 1 as the values given is the ndivided by the number of dimensions."
   ]
  },
  {
   "cell_type": "code",
   "execution_count": 4,
   "id": "e8268663",
   "metadata": {},
   "outputs": [
    {
     "name": "stdout",
     "output_type": "stream",
     "text": [
      "3.605551275463989\n",
      "5\n",
      "0.6666666666666666\n"
     ]
    }
   ],
   "source": [
    "euclidean = distance.euclidean([1,2], [4,0])\n",
    "cityblock = distance.cityblock([1, 2], [4, 0])\n",
    "hamming = distance.hamming([5, 4, 9], [1, 7, 9])\n",
    "print(euclidean)\n",
    "print(cityblock)\n",
    "print(hamming)"
   ]
  }
 ],
 "metadata": {
  "kernelspec": {
   "display_name": "Python 3",
   "language": "python",
   "name": "python3"
  },
  "language_info": {
   "codemirror_mode": {
    "name": "ipython",
    "version": 3
   },
   "file_extension": ".py",
   "mimetype": "text/x-python",
   "name": "python",
   "nbconvert_exporter": "python",
   "pygments_lexer": "ipython3",
   "version": "3.8.8"
  }
 },
 "nbformat": 4,
 "nbformat_minor": 5
}
