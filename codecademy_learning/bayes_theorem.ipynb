{
 "cells": [
  {
   "cell_type": "markdown",
   "id": "e5ced2e5",
   "metadata": {},
   "source": [
    "# Dr. Dirac's Statistics Midterm\n",
    "Grading a multiple choice exam is easy. But how much do multiple choice exams tell us about what a student really knows? Dr. Dirac is administering a statistics midterm exam and wants to use Bayes’ Theorem to help him understand the following:\n",
    "\n",
    "- Given that a student answered a question correctly, what is the probability that she really knows the material?\n",
    "\n",
    "Dr. Dirac knows the following probabilities based on many years of teaching:\n",
    "\n",
    "- There is a question on the exam that 60% of students know the correct answer to.\n",
    "- Given that a student knows the correct answer, there is still a 15% chance that the student picked the wrong answer.\n",
    "- Given that a student does not know the answer, there is still a 20% chance that the student picks the correct answer by guessing.  \n",
    "\n",
    "Using these probabilities, we can answer the question."
   ]
  },
  {
   "cell_type": "markdown",
   "id": "a454cea6",
   "metadata": {},
   "source": [
    "## 1\n",
    "In order to use Bayes Theorem, we need to phrase our question as P(A|B).\n",
    "\n",
    "What is A and B in this case?"
   ]
  },
  {
   "cell_type": "code",
   "execution_count": 1,
   "id": "9a1e5931",
   "metadata": {},
   "outputs": [],
   "source": [
    "# P(A|B) = what is the probability that she really knows the material Given that a student answered a question correctly\n",
    "# P(A) = Prob she knows the material\n",
    "# P(B) = Prob she gets the answer correct"
   ]
  },
  {
   "cell_type": "markdown",
   "id": "adf3afc8",
   "metadata": {},
   "source": [
    "## 2\n",
    "What is the probability that the student knows the material?"
   ]
  },
  {
   "cell_type": "code",
   "execution_count": 2,
   "id": "1ed9f44a",
   "metadata": {},
   "outputs": [],
   "source": [
    "prob_a_knows_material = 0.6"
   ]
  },
  {
   "cell_type": "markdown",
   "id": "411c8b62",
   "metadata": {},
   "source": [
    "## 3\n",
    "Given that the student knows the material, what is the probability that she answers correctly?"
   ]
  },
  {
   "cell_type": "code",
   "execution_count": 4,
   "id": "6b39e40c",
   "metadata": {},
   "outputs": [
    {
     "data": {
      "text/plain": [
       "0.85"
      ]
     },
     "execution_count": 4,
     "metadata": {},
     "output_type": "execute_result"
    }
   ],
   "source": [
    "p_b_given_a_ans_correct_given_knows_material = 1 - 0.15\n",
    "p_b_given_a_ans_correct_given_knows_material"
   ]
  },
  {
   "cell_type": "markdown",
   "id": "5b9d1405",
   "metadata": {},
   "source": [
    "## 4\n",
    "What is the probability of any student answering correctly?"
   ]
  },
  {
   "cell_type": "code",
   "execution_count": 8,
   "id": "1bf48e3f",
   "metadata": {},
   "outputs": [
    {
     "data": {
      "text/plain": [
       "0.5900000000000001"
      ]
     },
     "execution_count": 8,
     "metadata": {},
     "output_type": "execute_result"
    }
   ],
   "source": [
    "# taking into account correct knowing answer and guessing \n",
    "# takes into account the weighted average of knowing or not knowing the result\n",
    "\n",
    "# knows answer and gets it correct\n",
    "p_b_given_a_ans_correct_given_knows_material\n",
    "# doesnt know the answer but gets it correct\n",
    "p_doesnt_know_gets_correct = 0.2\n",
    "\n",
    "# knows the correct answer\n",
    "prob_a_knows_material\n",
    "# doesn't know the answer\n",
    "prob_doesnt_knows_material = 1 - prob_a_knows_material\n",
    "\n",
    "prob_is_correct = (p_b_given_a_ans_correct_given_knows_material * prob_a_knows_material)\\\n",
    "                    + ((prob_doesnt_knows_material) * p_doesnt_know_gets_correct)\n",
    "prob_is_correct"
   ]
  },
  {
   "cell_type": "markdown",
   "id": "779e1c92",
   "metadata": {},
   "source": [
    "## 5\n",
    "Using the three probabilities and Bayes’ Theorem, calculate `P(knows material | answers correctly)`."
   ]
  },
  {
   "cell_type": "code",
   "execution_count": 10,
   "id": "db01ffb9",
   "metadata": {},
   "outputs": [
    {
     "data": {
      "text/plain": [
       "0.8644067796610169"
      ]
     },
     "execution_count": 10,
     "metadata": {},
     "output_type": "execute_result"
    }
   ],
   "source": [
    "p_a_given_b = prob_a_knows_material * p_b_given_a_ans_correct_given_knows_material / prob_is_correct\n",
    "p_a_given_b"
   ]
  },
  {
   "cell_type": "markdown",
   "id": "011720c2",
   "metadata": {},
   "source": [
    "The probability of a student knowing the answer given they answered correctly is 86.44%."
   ]
  }
 ],
 "metadata": {
  "kernelspec": {
   "display_name": "Python 3",
   "language": "python",
   "name": "python3"
  },
  "language_info": {
   "codemirror_mode": {
    "name": "ipython",
    "version": 3
   },
   "file_extension": ".py",
   "mimetype": "text/x-python",
   "name": "python",
   "nbconvert_exporter": "python",
   "pygments_lexer": "ipython3",
   "version": "3.8.8"
  }
 },
 "nbformat": 4,
 "nbformat_minor": 5
}
