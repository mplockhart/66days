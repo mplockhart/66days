{
 "cells": [
  {
   "cell_type": "markdown",
   "id": "c457e95e",
   "metadata": {},
   "source": [
    "# Linear regression\n",
    "This was a good look at how linear regression can be built from scratch, and how it is possible to use it easily by importing a module from SKlearn."
   ]
  },
  {
   "cell_type": "code",
   "execution_count": 1,
   "id": "10491302",
   "metadata": {},
   "outputs": [],
   "source": [
    "# improting modules\n",
    "import matplotlib.pyplot as plt"
   ]
  },
  {
   "cell_type": "markdown",
   "id": "eadd10b6",
   "metadata": {},
   "source": [
    "## Manually coded\n",
    "The code immediately below is the code that was guided through by Codecademy."
   ]
  },
  {
   "cell_type": "code",
   "execution_count": 2,
   "id": "8e5b90fb",
   "metadata": {},
   "outputs": [],
   "source": [
    "def get_gradient_at_b(x, y, b, m):\n",
    "  N = len(x)\n",
    "  diff = 0\n",
    "  for i in range(N):\n",
    "    x_val = x[i]\n",
    "    y_val = y[i]\n",
    "    diff += (y_val - ((m * x_val) + b))\n",
    "  b_gradient = -(2/N) * diff  \n",
    "  return b_gradient"
   ]
  },
  {
   "cell_type": "code",
   "execution_count": 3,
   "id": "117819ed",
   "metadata": {},
   "outputs": [],
   "source": [
    "def get_gradient_at_m(x, y, b, m):\n",
    "  N = len(x)\n",
    "  diff = 0\n",
    "  for i in range(N):\n",
    "      x_val = x[i]\n",
    "      y_val = y[i]\n",
    "      diff += x_val * (y_val - ((m * x_val) + b))\n",
    "  m_gradient = -(2/N) * diff  \n",
    "  return m_gradient"
   ]
  },
  {
   "cell_type": "code",
   "execution_count": 4,
   "id": "51873436",
   "metadata": {},
   "outputs": [],
   "source": [
    "#Your step_gradient function here\n",
    "def step_gradient(b_current, m_current, x, y, learning_rate):\n",
    "    b_gradient = get_gradient_at_b(x, y, b_current, m_current)\n",
    "    m_gradient = get_gradient_at_m(x, y, b_current, m_current)\n",
    "    b = b_current - (learning_rate * b_gradient)\n",
    "    m = m_current - (learning_rate * m_gradient)\n",
    "    return [b, m]"
   ]
  },
  {
   "cell_type": "markdown",
   "id": "1a6dd462",
   "metadata": {},
   "source": [
    "The below code calls the step gradient descent, which in turn looked to minimise the less function for both 'b' and 'm'. Inside this, it calls the gradient descent for the number of iterations deemed reasonable."
   ]
  },
  {
   "cell_type": "code",
   "execution_count": 5,
   "id": "f40fdd60",
   "metadata": {},
   "outputs": [],
   "source": [
    "#Your gradient_descent function here:  \n",
    "def gradient_descent(x, y, learning_rate, num_iterations):\n",
    "  b = 0\n",
    "  m = 0\n",
    "  for num in range(num_iterations):\n",
    "    b, m = step_gradient(b, m, x, y, learning_rate)\n",
    "  return [b, m]"
   ]
  },
  {
   "cell_type": "markdown",
   "id": "60ab2f71",
   "metadata": {},
   "source": [
    "## Calling the code\n",
    "This now calls the code using and initial b=0 and m=0 and attempts to optimise this using the learning rate specified and for the number of iterations."
   ]
  },
  {
   "cell_type": "code",
   "execution_count": 9,
   "id": "5a81e6a6",
   "metadata": {},
   "outputs": [
    {
     "name": "stdout",
     "output_type": "stream",
     "text": [
      "Using a learning rate of 0.01, with 1000 iterations, a gradient of 10.463427732364998 and intercept of 49.60215351339813.\n"
     ]
    },
    {
     "data": {
      "image/png": "[encoded data removed]",
      "text/plain": [
       "<Figure size 432x288 with 1 Axes>"
      ]
     },
     "metadata": {
      "needs_background": "light"
     },
     "output_type": "display_data"
    }
   ],
   "source": [
    "# This is the \n",
    "months = [1, 2, 3, 4, 5, 6, 7, 8, 9, 10, 11, 12]\n",
    "revenue = [52, 74, 79, 95, 115, 110, 129, 126, 147, 146, 156, 184]\n",
    "\n",
    "#Uncomment the line below to run your gradient_descent function\n",
    "learning_rate = 0.01\n",
    "num_iterations = 1000\n",
    "b, m = gradient_descent(months, revenue, learning_rate, num_iterations)\n",
    "\n",
    "#Uncomment the lines below to see the line you've settled upon!\n",
    "y = [m*x + b for x in months]\n",
    "\n",
    "print(f'Using a learning rate of {learning_rate}, with {num_iterations} iterations, a gradient of {m} and intercept of {b}.')\n",
    "\n",
    "plt.plot(months, revenue, \"o\")\n",
    "plt.plot(months, y)\n",
    "\n",
    "plt.show()"
   ]
  },
  {
   "cell_type": "markdown",
   "id": "2edf5dd5",
   "metadata": {},
   "source": [
    "## Tweek\n",
    "This is just a test in looking at the predictions of the regression model with month 15."
   ]
  },
  {
   "cell_type": "code",
   "execution_count": 8,
   "id": "51913a1c",
   "metadata": {},
   "outputs": [
    {
     "name": "stdout",
     "output_type": "stream",
     "text": [
      "185.6267140341431\n"
     ]
    }
   ],
   "source": [
    "test_x = 13\n",
    "y_predict = m*test_x + b\n",
    "print(y_predict)"
   ]
  },
  {
   "cell_type": "markdown",
   "id": "ba83a35a",
   "metadata": {},
   "source": [
    "## Utilising Scikit-Learn\n",
    "The below will utilise the linear regression models from SK-Learn for the same prediction."
   ]
  },
  {
   "cell_type": "code",
   "execution_count": 18,
   "id": "0e28b991",
   "metadata": {},
   "outputs": [
    {
     "data": {
      "image/png": "[encoded data removed]",
      "text/plain": [
       "<Figure size 432x288 with 1 Axes>"
      ]
     },
     "metadata": {
      "needs_background": "light"
     },
     "output_type": "display_data"
    }
   ],
   "source": [
    "from sklearn.linear_model import LinearRegression\n",
    "import numpy as np\n",
    "\n",
    "# Reshaping the x and y calues\n",
    "X = np.array(months)\n",
    "X = X.reshape(-1,1)\n",
    "y = np.array(revenue)\n",
    "y = y.reshape(-1,1)\n",
    "\n",
    "# initiate the model\n",
    "line_fitter = LinearRegression()\n",
    "line_fitter.fit(X, y)\n",
    "y_predict_rgr = line_fitter.predict(X)\n",
    "plt.scatter(X, y)\n",
    "plt.plot(X, y_predict_rgr, color='orange')\n",
    "plt.show()"
   ]
  },
  {
   "cell_type": "markdown",
   "id": "f9427500",
   "metadata": {},
   "source": [
    "# Portfolio project\n",
    "This project was somehwta guided but was left to my own devices for coding"
   ]
  },
  {
   "cell_type": "markdown",
   "id": "f8e0f222",
   "metadata": {},
   "source": [
    "## Honey Production\n",
    "Now that you have learned how linear regression works, let’s try it on an example of real-world data.\n",
    "\n",
    "As you may have already heard, the honeybees are in a precarious state right now. You may have seen articles about the decline of the honeybee population for various reasons. You want to investigate this decline and how the trends of the past predict the future for the honeybees."
   ]
  },
  {
   "cell_type": "code",
   "execution_count": 25,
   "id": "16432021",
   "metadata": {},
   "outputs": [
    {
     "name": "stdout",
     "output_type": "stream",
     "text": [
      "[-88303.18915238] 181208083.1073298\n"
     ]
    },
    {
     "data": {
      "image/png": "[encoded data removed]",
      "text/plain": [
       "<Figure size 432x288 with 1 Axes>"
      ]
     },
     "metadata": {
      "needs_background": "light"
     },
     "output_type": "display_data"
    },
    {
     "name": "stdout",
     "output_type": "stream",
     "text": [
      "186545.34494683146\n"
     ]
    },
    {
     "data": {
      "image/png": "[encoded data removed]",
      "text/plain": [
       "<Figure size 432x288 with 1 Axes>"
      ]
     },
     "metadata": {
      "needs_background": "light"
     },
     "output_type": "display_data"
    }
   ],
   "source": [
    "import pandas as pd\n",
    "import matplotlib.pyplot as plt\n",
    "import numpy as np\n",
    "from sklearn import linear_model\n",
    "\n",
    "df = pd.read_csv(\"honeyproduction.csv\")\n",
    "\n",
    "prod_per_year = df.groupby('year')['totalprod'].mean().reset_index()\n",
    "#print(prod_per_year)\n",
    "X = prod_per_year['year']\n",
    "X = X.values.reshape(-1, 1)\n",
    "y = prod_per_year['totalprod']\n",
    "\n",
    "regr = linear_model.LinearRegression()\n",
    "regr.fit(X,y)\n",
    "\n",
    "# Print the 'm' and 'b' of the graphs\n",
    "print(regr.coef_, regr.intercept_)\n",
    "\n",
    "# Using the model to predict the values of 'y'\n",
    "y_predict = regr.predict(X)\n",
    "\n",
    "# Plotting the data and the linear regression model\n",
    "plt.scatter(X,y)\n",
    "plt.plot(X, y_predict, color='r')\n",
    "plt.title('Linear Regression of declining bees')\n",
    "plt.xlabel('Years')\n",
    "plt.ylabel('Total number of bees')\n",
    "plt.show()\n",
    "\n",
    "# Predicting population out to 2050\n",
    "X_future = np.array(range(2013,2051))\n",
    "X_future = X_future.reshape(-1, 1)\n",
    "\n",
    "# Using the current model trained above \n",
    "future_predict = regr.predict(X_future)\n",
    "\n",
    "# Printing the value for 2050\n",
    "print(future_predict[-1])\n",
    "\n",
    "# Plotting the prediction to 2050\n",
    "plt.scatter(X_future, future_predict)\n",
    "plt.title('Predicted decline')\n",
    "plt.xlabel('Years')\n",
    "plt.ylabel('Total number of bees')\n",
    "plt.show()"
   ]
  },
  {
   "cell_type": "markdown",
   "id": "945e4e69",
   "metadata": {},
   "source": [
    "## Manual calculation\n",
    "Using the coefficients to manually get values of 2050 predictions"
   ]
  },
  {
   "cell_type": "code",
   "execution_count": 26,
   "id": "9c378ba1",
   "metadata": {},
   "outputs": [
    {
     "name": "stdout",
     "output_type": "stream",
     "text": [
      "[186545.34494683]\n"
     ]
    }
   ],
   "source": [
    "print(2050*regr.coef_ + regr.intercept_)"
   ]
  },
  {
   "cell_type": "code",
   "execution_count": null,
   "id": "abaf25de",
   "metadata": {},
   "outputs": [],
   "source": []
  }
 ],
 "metadata": {
  "kernelspec": {
   "display_name": "Python 3",
   "language": "python",
   "name": "python3"
  },
  "language_info": {
   "codemirror_mode": {
    "name": "ipython",
    "version": 3
   },
   "file_extension": ".py",
   "mimetype": "text/x-python",
   "name": "python",
   "nbconvert_exporter": "python",
   "pygments_lexer": "ipython3",
   "version": "3.8.8"
  }
 },
 "nbformat": 4,
 "nbformat_minor": 5
}
