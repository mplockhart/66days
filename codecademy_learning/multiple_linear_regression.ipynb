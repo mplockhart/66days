{
 "cells": [
  {
   "cell_type": "markdown",
   "id": "66434358",
   "metadata": {},
   "source": [
    "# Multiple linear regression\n",
    "Multiple linear regression builds on linear regression where additional attributes are used. While a straight line represents the prediction of a standard ‘X,Y’ graph, multiple linear regression can be used for higher numbers of columns, higher than those that can be graphed.\n",
    "\n",
    "## Difference in the equation\n",
    "In the linear regression the equation is  \n",
    "*y = mx + b*  \n",
    "Where m and b are estimated through linear regression. In Multiple linear regression the equation is  \n",
    "*y = b + $m_{1}x_{1} + m_{2}x_{2} + … + m_{n}x_{n}$*  \n",
    "In the example below, we see how to implement this, but also how to score the prediction of the y values using the score function of SK-Learn\n"
   ]
  },
  {
   "cell_type": "code",
   "execution_count": 1,
   "id": "d4014ce1",
   "metadata": {},
   "outputs": [],
   "source": [
    "# importing modules\n",
    "import matplotlib.pyplot as plt\n",
    "import pandas as pd\n",
    "\n",
    "from sklearn.model_selection import train_test_split\n",
    "from sklearn.linear_model import LinearRegression"
   ]
  },
  {
   "cell_type": "markdown",
   "id": "c7d9ba1d",
   "metadata": {},
   "source": [
    "## MLR Manhattan Housing\n",
    "Here the data set has multiple columns which become more difficult to fit manually, but pose little problem to the algorithms working in higher dimensions. "
   ]
  },
  {
   "cell_type": "code",
   "execution_count": 15,
   "id": "913bf5d9",
   "metadata": {},
   "outputs": [
    {
     "data": {
      "image/png": "[encoded data removed]",
      "text/plain": [
       "<Figure size 432x288 with 1 Axes>"
      ]
     },
     "metadata": {
      "needs_background": "light"
     },
     "output_type": "display_data"
    }
   ],
   "source": [
    "# Accessing the 'CSV' file from online\n",
    "streeteasy = pd.read_csv(\"https://raw.githubusercontent.com/sonnynomnom/Codecademy-Machine-Learning-Fundamentals/master/StreetEasy/manhattan.csv\")\n",
    "\n",
    "# Creating a data frome from the CSV\n",
    "df = pd.DataFrame(streeteasy)\n",
    "\n",
    "# Segmenting 'x' and 'y' for adding these into the MLR ML model\n",
    "x = df[['bedrooms', 'bathrooms', 'size_sqft', 'min_to_subway', 'floor', 'building_age_yrs', 'no_fee', 'has_roofdeck', 'has_washer_dryer', 'has_doorman', 'has_elevator', 'has_dishwasher', 'has_patio', 'has_gym']]\n",
    "y = df[['rent']]\n",
    "\n",
    "# Splitting the dat for test and train for comparison\n",
    "x_train, x_test, y_train, y_test = train_test_split(x, y, train_size = 0.8, test_size = 0.2, random_state=6)\n",
    "\n",
    "# Instantiating and fitting the linear regression model\n",
    "mlr = LinearRegression()\n",
    "model=mlr.fit(x_train, y_train)\n",
    "\n",
    "# Using the fitted model to predict the test 'x' values\n",
    "y_predict = mlr.predict(x_test)\n",
    "\n",
    "# Outputting the visualisation of each coefficient for each of the 14 columns ('m')\n",
    "# print(mlr.coef_)\n",
    "\n",
    "# plotting real and predicted values\n",
    "plt.scatter(y_test, y_predict)\n",
    "plt.xlabel('Prices: Y truth')\n",
    "plt.ylabel('Prices: Predict')\n",
    "plt.title('Predicting Prices')\n",
    "plt.show()\n"
   ]
  },
  {
   "cell_type": "markdown",
   "id": "7c2e58db",
   "metadata": {},
   "source": [
    "## Evaluating accuracy\n",
    "When trying to evaluate the accuracy of our multiple linear regression model, one technique we can use is Residual Analysis.\n",
    "\n",
    "The difference between the actual value y, and the predicted value ŷ is the residual e. The equation is:\n",
    "\n",
    "e = y - ŷ\n",
    " \n",
    "In the StreetEasy dataset, y is the actual rent and the ŷ is the predicted rent. The real y values should be pretty close to these predicted y values.\n",
    "\n",
    "sklearn‘s linear_model.LinearRegression comes with a .score() method that returns the coefficient of determination R² of the prediction.\n",
    "\n",
    "The coefficient R² is defined as:\n",
    "\n",
    "1 - (u/v)\n",
    " \n",
    "where u is the residual sum of squares:  \n",
    "((y - y_predict) ** 2).sum()  \n",
    "and v is the total sum of squares (TSS):  \n",
    "  \n",
    "((y - y.mean()) ** 2).sum()  \n",
    "The TSS tells you how much variation there is in the y variable.  \n",
    "\n",
    "R² is the percentage variation in y explained by all the x variables together.  \n",
    "\n",
    "For example, say we are trying to predict rent based on the size_sqft and the bedrooms in the apartment and the R² for our model is 0.72 — that means that all the x variables (square feet and number of bedrooms) together explain 72% variation in y (rent).  \n",
    "\n",
    "Now let’s say we add another x variable, building’s age, to our model. By adding this third relevant x variable, the R² is expected to go up. Let say the new R² is 0.95. This means that square feet, number of bedrooms and age of the building together explain 95% of the variation in the rent.  \n",
    "\n",
    "The best possible R² is 1.00 (and it can be negative because the model can be arbitrarily worse). Usually, a R² of 0.70 is considered good.  "
   ]
  },
  {
   "cell_type": "code",
   "execution_count": 17,
   "id": "051e7697",
   "metadata": {},
   "outputs": [
    {
     "name": "stdout",
     "output_type": "stream",
     "text": [
      "Score train: 0.7725460559817883\n",
      "Score test: 0.805037197535764\n"
     ]
    }
   ],
   "source": [
    "# Score of the training set and the test set\n",
    "print(f'Score train: {mlr.score(x_train, y_train)}')\n",
    "print(f'Score test: {mlr.score(x_test, y_test)}')"
   ]
  },
  {
   "cell_type": "markdown",
   "id": "b4c10415",
   "metadata": {},
   "source": [
    "From the assumption that > 0.7 is good, then the fitting of the data is to be relied on."
   ]
  }
 ],
 "metadata": {
  "kernelspec": {
   "display_name": "Python 3",
   "language": "python",
   "name": "python3"
  },
  "language_info": {
   "codemirror_mode": {
    "name": "ipython",
    "version": 3
   },
   "file_extension": ".py",
   "mimetype": "text/x-python",
   "name": "python",
   "nbconvert_exporter": "python",
   "pygments_lexer": "ipython3",
   "version": "3.8.8"
  }
 },
 "nbformat": 4,
 "nbformat_minor": 5
}
